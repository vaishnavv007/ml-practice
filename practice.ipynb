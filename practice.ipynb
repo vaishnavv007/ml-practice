{
 "cells": [
  {
   "cell_type": "markdown",
   "id": "ff234c2a-797c-4e19-98c2-04d912804172",
   "metadata": {},
   "source": [
    "a = int(input(\"enter a number \"))\n",
    "\n"
   ]
  },
  {
   "cell_type": "code",
   "execution_count": 87,
   "id": "54191acc-a92c-47e7-a5d6-98b5b2d5182a",
   "metadata": {},
   "outputs": [
    {
     "name": "stdin",
     "output_type": "stream",
     "text": [
      "enter a number  6\n"
     ]
    },
    {
     "name": "stdout",
     "output_type": "stream",
     "text": [
      "not prime number\n"
     ]
    }
   ],
   "source": [
    "a = int(input(\"enter a number \"))\n",
    "flag =0\n",
    "for i in range(2,a):\n",
    "    if a%i == 0:\n",
    "        flag = 1\n",
    "        break\n",
    "    \n",
    "if flag == 0:\n",
    "    print(\" prime number  \")\n",
    "else:\n",
    "    print(\"not prime number\")\n",
    "    \n"
   ]
  },
  {
   "cell_type": "code",
   "execution_count": 88,
   "id": "faef4465-2ed7-4bdb-9d06-f98b0b57d1ff",
   "metadata": {},
   "outputs": [
    {
     "name": "stdin",
     "output_type": "stream",
     "text": [
      "enter the number to get the factorial:  6\n"
     ]
    },
    {
     "name": "stdout",
     "output_type": "stream",
     "text": [
      "720\n"
     ]
    }
   ],
   "source": [
    "b = int(input(\"enter the number to get the factorial: \")) \n",
    "factorial = 1\n",
    "for n in range(2,b+1):\n",
    "    factorial = factorial * n\n",
    "print(factorial)    "
   ]
  },
  {
   "cell_type": "code",
   "execution_count": 89,
   "id": "43dad361-1aef-4853-90f6-0f733f80f979",
   "metadata": {},
   "outputs": [
    {
     "name": "stdin",
     "output_type": "stream",
     "text": [
      "fibonsci series: 6\n"
     ]
    },
    {
     "name": "stdout",
     "output_type": "stream",
     "text": [
      "[0, 1, 1, 2, 3, 5]\n"
     ]
    }
   ],
   "source": [
    "c= int(input(\"fibonsci series:\"))\n",
    "fib=[0,1]\n",
    "\n",
    "for h in range(2,c):\n",
    "    p=fib[h-1]+fib[h-2] \n",
    "    fib.append(p)\n",
    "\n",
    "print(fib)\n",
    "\n"
   ]
  },
  {
   "cell_type": "code",
   "execution_count": 90,
   "id": "08f88770-842a-403d-8e75-199373589a37",
   "metadata": {},
   "outputs": [
    {
     "name": "stdin",
     "output_type": "stream",
     "text": [
      "fibonsci series: 6\n"
     ]
    },
    {
     "name": "stdout",
     "output_type": "stream",
     "text": [
      "011235"
     ]
    }
   ],
   "source": [
    "c= int(input(\"fibonsci series:\"))\n",
    "a=0\n",
    "b=1\n",
    "print(0,end='')\n",
    "print(1,end='')\n",
    "for h in range(c-2):\n",
    "    c=a+b\n",
    "    a=b\n",
    "    b=c\n",
    "    print(c,end='')\n",
    "\n"
   ]
  },
  {
   "cell_type": "code",
   "execution_count": 93,
   "id": "9807b96a-7f2e-4dd7-a884-4972d13a0832",
   "metadata": {},
   "outputs": [
    {
     "name": "stdout",
     "output_type": "stream",
     "text": [
      "*\n",
      "**\n",
      "***\n",
      "****\n",
      "*****\n"
     ]
    }
   ],
   "source": [
    "for i in range(5):\n",
    "    for j in range(i+1):\n",
    "        print(\"*\", end='')\n",
    "    print()\n",
    "\n",
    "        \n",
    "\n"
   ]
  },
  {
   "cell_type": "code",
   "execution_count": 95,
   "id": "c36f307b-a191-4b51-990e-6d5ffb56f9db",
   "metadata": {},
   "outputs": [
    {
     "name": "stdin",
     "output_type": "stream",
     "text": [
      "enter number 6\n"
     ]
    },
    {
     "name": "stdout",
     "output_type": "stream",
     "text": [
      "     *\n",
      "    ***\n",
      "   *****\n",
      "  *******\n",
      " *********\n",
      "***********\n"
     ]
    }
   ],
   "source": [
    "k=int(input('enter number'))\n",
    "for i in range(1,k+1):\n",
    "    print(' '* (k-i) + '*'* (2*i-1))\n"
   ]
  },
  {
   "cell_type": "code",
   "execution_count": 96,
   "id": "73972d55-37e9-4ce5-b086-93e473e8ad35",
   "metadata": {},
   "outputs": [
    {
     "name": "stdin",
     "output_type": "stream",
     "text": [
      "Enter the number of rows:  6\n"
     ]
    },
    {
     "name": "stdout",
     "output_type": "stream",
     "text": [
      "          1 \n",
      "        2 2 2 \n",
      "      3 3 3 3 3 \n",
      "    4 4 4 4 4 4 4 \n",
      "  5 5 5 5 5 5 5 5 5 \n",
      "6 6 6 6 6 6 6 6 6 6 6 \n"
     ]
    }
   ],
   "source": [
    "r = int(input(\"Enter the number of rows: \"))\n",
    "\n",
    "for i in range(1, r + 1):\n",
    "    print(\"  \" * (r - i), end=\"\")\n",
    "    f= (str(i) + \" \") * (2 * i - 1)\n",
    "    print(f)\n"
   ]
  },
  {
   "cell_type": "code",
   "execution_count": null,
   "id": "bf419817-5397-41ff-b43d-af22f84d87e5",
   "metadata": {},
   "outputs": [],
   "source": [
    "r = 5\n",
    "for i in range(1, r + 1):\n",
    "    print(\" \" * (r - i) + \"*\" \n",
    "        * (2 * i - 1))\n",
    "for i in range(r - 1, 0, -1):\n",
    "    print(\" \" * (r - i) + \"*\" * (2 * i - 1))\n"
   ]
  },
  {
   "cell_type": "code",
   "execution_count": null,
   "id": "3f6c3e5c-4895-4af2-a557-d5bead902d0b",
   "metadata": {},
   "outputs": [],
   "source": [
    "r = 5\n",
    "for i in range(1, r + 1):\n",
    "    for j in range(r - i):\n",
    "         print(\" \", end=\" \")\n",
    "    for j in range(2 * i - 1):\n",
    "         print(j + 1, end=\" \")\n",
    "    print()\n",
    "\n"
   ]
  },
  {
   "cell_type": "code",
   "execution_count": null,
   "id": "297e2fe0-5689-461c-9fa6-0a53e7c9bf89",
   "metadata": {},
   "outputs": [],
   "source": [
    "r = 5\n",
    "for i in range(r - 1, 0, -1):\n",
    "    print(\" \" * (r - i) + \"*\" * (2 * i - 1))"
   ]
  },
  {
   "cell_type": "code",
   "execution_count": null,
   "id": "fedb6586-c3b1-486d-bf76-38a19c769e65",
   "metadata": {},
   "outputs": [],
   "source": [
    "#Uppercase letters: A-Z: ASCII 65–90\n",
    "#Lowercase letters: a-z: ASCII 97–122\n",
    "a=5\n",
    "for i in range(1,a+1):\n",
    "    for j in range(a-i):\n",
    "        print(\" \",end=\" \")\n",
    "    for j in range(2*i-1): \n",
    "         print(chr(j + 65), end=\" \")\n",
    "    print()\n"
   ]
  },
  {
   "cell_type": "code",
   "execution_count": null,
   "id": "bdd078b5-4a49-4239-98e0-34a576fb4c13",
   "metadata": {},
   "outputs": [],
   "source": [
    "r = int(input(\"Enter the number of rows: \"))\n",
    "\n",
    "for i in range(r+1 ):\n",
    "    print(\"  \" * (r - i), end=\"\")\n",
    "    f= (str((chr((i+64))) + \" \") * (2 * i -1 ))\n",
    "    print(f)\n"
   ]
  },
  {
   "cell_type": "code",
   "execution_count": null,
   "id": "d7ef995b-2624-4cc8-b38c-6557d561d9f5",
   "metadata": {},
   "outputs": [],
   "source": [
    "a=\"cat\"\n",
    "b=\"bot\"\n",
    "print(a.replace(\"c\",\"b\").replace(\"t\",\"ll\"))\n",
    "print(a.replace(\"b\",\"h\").replace(\"o\",\"t\"))\n",
    "    "
   ]
  },
  {
   "cell_type": "code",
   "execution_count": null,
   "id": "3415d815-2864-4ad5-90a8-5fa3eb99f9fa",
   "metadata": {},
   "outputs": [],
   "source": [
    "def game(a):\n",
    "  print(a.replace(\"r\",\"i\").replace(\"i\",\"r\"))\n",
    "a=\"friend\"\n",
    "game(a)"
   ]
  },
  {
   "cell_type": "code",
   "execution_count": null,
   "id": "b41347dd-13b2-4ea7-9f8b-7fd050a41f91",
   "metadata": {},
   "outputs": [],
   "source": [
    "a=\"gain\"\n",
    "b=\"laying\"\n",
    "a = ''.join(sorted(a))\n",
    "b = ''.join(sorted(b))\n",
    "if a == b :\n",
    "    print(\"its a anagram\")\n",
    "else:\n",
    "    print(\"not anagram\")\n",
    "          "
   ]
  },
  {
   "cell_type": "code",
   "execution_count": null,
   "id": "f72654b1-70af-4034-a167-ee2fb8854e9f",
   "metadata": {},
   "outputs": [],
   "source": [
    "address = \"123 north anywhere street\"\n",
    "dictionary = {\"NORTH\":\"N\", \"SOUTH\":\"S\" } \n",
    "for key in dictionary.keys():\n",
    "    address = address.upper().replace(key, dictionary[key])\n",
    "print(address)"
   ]
  },
  {
   "cell_type": "code",
   "execution_count": null,
   "id": "0d998c1c-e730-4406-a61a-531c9b6f5924",
   "metadata": {},
   "outputs": [],
   "source": [
    "a=\"friend\"\n",
    "for r in ((\"r\", \"i\"), (\"i\",\"r\")):\n",
    "    a = a.replace(*r)\n",
    "print(a)"
   ]
  },
  {
   "cell_type": "code",
   "execution_count": null,
   "id": "719ef0a6-835d-4e09-8eb4-0417a85710c4",
   "metadata": {},
   "outputs": [],
   "source": [
    "a=\"friend\"\n",
    "dictionary = {\"r\":\"i\", \"i\":\"r\" } \n",
    "for key i"
   ]
  },
  {
   "cell_type": "code",
   "execution_count": null,
   "id": "ac0fd58c-5e3d-41d1-a7e6-ce888f5893b0",
   "metadata": {},
   "outputs": [],
   "source": [
    "import base64\n",
    "\n",
    "with open(\"trial.png\", \"rb\") as image_file:\n",
    "    encoded_string = base64.b64encode(image_file.read())\n",
    "print(encoded_string)    \n",
    "\n",
    "\n"
   ]
  },
  {
   "cell_type": "code",
   "execution_count": null,
   "id": "aadf2acf-c687-4ed2-b27e-0d49bccc7be8",
   "metadata": {},
   "outputs": [],
   "source": [
    "\n",
    "\n",
    "  "
   ]
  },
  {
   "cell_type": "code",
   "execution_count": null,
   "id": "eab63d66-e6ab-46bf-ba8e-efcca845ebc8",
   "metadata": {},
   "outputs": [],
   "source": [
    "from PIL import Image\n",
    "import os, os.path\n",
    "import base64\n",
    "imgs=[]\n",
    "d=[]\n",
    "path=\"D:\\images\"\n",
    "valid_images = [\".jpg\",\".gif\",\".png\",\".tga\"]\n",
    "for f in os.listdir(path):\n",
    "    ext = os.path.splitext(f)[1]\n",
    "    if ext.lower() not in valid_images:\n",
    "        continue \n",
    "    with open(ext, \"rb\") as image_file:\n",
    "        encoded_string = base64.b64encode(image_file.read()).decode('utf-8')\n",
    "        d.append(encoded_string)\n",
    "   \n",
    "   \n",
    "print(d)\n",
    "#not work"
   ]
  },
  {
   "cell_type": "code",
   "execution_count": null,
   "id": "cd5a7e47-d130-4755-9a1b-aeff72d617e6",
   "metadata": {},
   "outputs": [],
   "source": [
    "from PIL import Image\n",
    "import os, os.path\n",
    "import base64\n",
    "imgs=[]\n",
    "path=\"D:\\images\"\n",
    "valid_images = [\".jpg\",\".gif\",\".png\",\".tga\"]\n",
    "for filename in os.listdir(image_directory):\n",
    "    file_path = os.path.join(image_directory, filename)\n",
    "    if ext.lower() not in valid_images:\n",
    "        continue \n",
    "    imgs.append(Image.open(os.path.join(path,f)))\n",
    "print(imgs)"
   ]
  },
  {
   "cell_type": "code",
   "execution_count": null,
   "id": "373ce7b0-b717-456a-b968-35bb517f22ef",
   "metadata": {},
   "outputs": [],
   "source": [
    "image_directory = \"D:\\images\"\n",
    "base64_images = []\n",
    "\n",
    "for filename in os.listdir(image_directory):\n",
    "    file_path = os.path.join(image_directory, filename)\n",
    "    if os.path.isfile(file_path): \n",
    "        with open(file_path, \"rb\") as image_file:\n",
    "            encoded_string = base64.b64encode(image_file.read()).decode('utf-8')\n",
    "            base64_images.append(encoded_string)\n",
    "\n",
    "print(base64_images[0])\n",
    "#success"
   ]
  },
  {
   "cell_type": "code",
   "execution_count": null,
   "id": "dd1eab0a-1b05-436d-a620-6c4844f7c5dd",
   "metadata": {},
   "outputs": [],
   "source": [
    "import os\n",
    "import base64\n",
    "\n",
    "image_directory = \"D:\\images\"\n",
    "\n",
    "\n",
    "base64_images_dict = {}\n",
    "\n",
    "allowed_extensions = {\".jpg\", \".jpeg\", \".png\", \".gif\"}\n",
    "\n",
    "for filename in os.listdir(image_directory):\n",
    "    file_path = os.path.join(image_directory, filename)\n",
    "    if os.path.isfile(file_path) and os.path.splitext(filename)[1].lower() in allowed_extensions:\n",
    "        with open(file_path, \"rb\") as image_file:\n",
    "            encoded_string = base64.b64encode(image_file.read()).decode('utf-8')\n",
    "            base64_images_dict[filename] = encoded_string\n",
    "\n",
    "print(base64_images_dict)\n"
   ]
  },
  {
   "cell_type": "code",
   "execution_count": null,
   "id": "6fe77d04-2d8f-4d51-98d1-5c1bbe44eff6",
   "metadata": {},
   "outputs": [],
   "source": [
    "image_directory = \"D:\\images\"\n",
    "base64_images = []\n",
    "\n",
    "for filename in os.listdir(image_directory):\n",
    "    file_path = os.path.join(image_directory, filename)\n",
    "    if os.path.isfile(file_path): \n",
    "        with open(file_path, \"rb\") as image_file:\n",
    "            encoded_string = base64.b64encode(image_file.read())\n",
    "            base64_images.append(encoded_string)\n",
    "\n",
    "print(base64_images)\n",
    "#success"
   ]
  },
  {
   "cell_type": "code",
   "execution_count": null,
   "id": "5fd48e21-52ca-4d43-bace-001820612131",
   "metadata": {},
   "outputs": [],
   "source": [
    "import base64\n",
    "\n",
    "with open(\"trial.png\", \"rb\") as image_file:\n",
    "    encoded_string = base64.b64encode(image_file.read())\n",
    "print(encoded_string)    \n",
    "\n"
   ]
  },
  {
   "cell_type": "code",
   "execution_count": null,
   "id": "655d9ef4-fbd0-4ca4-96c2-5350b5e23805",
   "metadata": {},
   "outputs": [],
   "source": []
  },
  {
   "cell_type": "code",
   "execution_count": null,
   "id": "48a357fa-cd7a-49ce-b838-6973d8077d3e",
   "metadata": {},
   "outputs": [],
   "source": [
    "import cv2\n",
    "import numpy as np\n",
    "import base64\n",
    "with open(\"trial.png\", \"rb\") as image_file:\n",
    "    encoded_string = base64.b64encode(image_file.read())\n",
    "image = encoded_string   # raw data with base64 encoding\n",
    "decoded_data = base64.b64decode(image)\n",
    "np_data = np.fromstring(decoded_data,np.uint8)\n",
    "img = cv2.imdecode(np_data,cv2.IMREAD_UNCHANGED)\n",
    "cv2.imshow(\"test\", img)\n",
    "cv2.waitKey(0)"
   ]
  },
  {
   "cell_type": "code",
   "execution_count": null,
   "id": "bd70b1fa-8fd0-428a-94ad-26c62dc1343c",
   "metadata": {},
   "outputs": [],
   "source": [
    "pip install opencv-python"
   ]
  },
  {
   "cell_type": "markdown",
   "id": "c3262090-0f75-4742-97d3-f9cd66be605a",
   "metadata": {},
   "source": [
    "###### import base64\n",
    "from PIL import Image\n",
    "import cv2\n",
    "from StringIO import StringIO\n",
    "import numpy as np\n",
    "\n",
    "def readb64(base64_string):\n",
    "    sbuf = StringIO()\n",
    "    sbuf.write(base64.b64decode(base64_string))\n",
    "    pimg = Image.open(sbuf)\n",
    "    return cv2.cvtColor(np.array(pimg), cv2.COLOR_RGB2BGR)\n",
    "with open(\"trial.png\", \"rb\") as image_file:\n",
    "    encoded_string = base64.b64encode(image_file.read())\n",
    "#print(encoded_string) \n",
    "cvimg = readb64(encoded_string)\n",
    "cv2.imshow(cvimg)"
   ]
  },
  {
   "cell_type": "code",
   "execution_count": null,
   "id": "2a200538-1fac-42e7-9406-1f5436e9af4a",
   "metadata": {},
   "outputs": [],
   "source": [
    "import cv2\n",
    "import numpy as np\n",
    "import base64\n",
    "with open(\"trial.png\", \"rb\") as image_file:\n",
    "    encoded_string = base64.b64encode(image_file.read())\n",
    "image = encoded_string   # raw data with base64 encoding\n",
    "decoded_data = base64.b64decode(image)\n",
    "np_data = np.fromstring(decoded_data,np.uint8)\n",
    "img = cv2.imdecode(np_data,cv2.IMREAD_UNCHANGED)\n",
    "cv2.imshow(\"test\", img)\n",
    "cv2.waitKey(0)"
   ]
  },
  {
   "cell_type": "code",
   "execution_count": null,
   "id": "5e0d0b01-8a50-4369-a41b-4a83189cfcbf",
   "metadata": {},
   "outputs": [],
   "source": []
  },
  {
   "cell_type": "code",
   "execution_count": null,
   "id": "221d2311-7463-4b22-9be6-5b26c6367de5",
   "metadata": {},
   "outputs": [],
   "source": []
  },
  {
   "cell_type": "code",
   "execution_count": null,
   "id": "8fde08be-893a-48e4-a173-3ad40f474620",
   "metadata": {},
   "outputs": [],
   "source": []
  },
  {
   "cell_type": "code",
   "execution_count": null,
   "id": "99c9cc4f-92d1-4715-a144-ee437f2d6ee7",
   "metadata": {},
   "outputs": [],
   "source": [
    "import cv2\n",
    "import numpy as np\n",
    "import base64\n",
    "with open(\"trial.png\", \"rb\") as image_file:\n",
    "    encoded_string = base64.b64encode(image_file.read())\n",
    "image = encoded_string   # raw data with base64 encoding\n",
    "decoded_data = base64.b64decode(image)\n",
    "np_data = np.fromstring(decoded_data,np.uint8)\n",
    "img = cv2.imdecode(np_data,cv2.IMREAD_UNCHANGED)\n",
    "cv2.imshow(\"test\", img)\n",
    "cv2.waitKey(0)\n",
    "# sucess"
   ]
  },
  {
   "cell_type": "code",
   "execution_count": null,
   "id": "e2d0d215-ce4e-4fc7-8548-d2f12fe8618a",
   "metadata": {},
   "outputs": [],
   "source": [
    "\n",
    "import io\n",
    "import cv2\n",
    "import base64 \n",
    "import numpy as np\n",
    "from PIL import Image\n",
    "with open(\"trial.png\", \"rb\") as image_file:\n",
    "    encoded_string = base64.b64encode(image_file.read())\n",
    "# Take in base64 string and return PIL image\n",
    "def stringToImage(base64_string):\n",
    "    imgdata = base64.b64decode(base64_string)\n",
    "    return Image.open(io.BytesIO(imgdata))\n",
    "\n",
    "# convert PIL Image to an RGB image( technically a numpy array ) that's compatible with opencv\n",
    "def toRGB(image):\n",
    "    return cv2.cvtColor(np.array(image), cv2.COLOR_BGR2RGB)\n",
    "stringToImage(encoded_string)"
   ]
  },
  {
   "cell_type": "code",
   "execution_count": null,
   "id": "4bf2981f-c7b6-4a44-b5ea-18f151764a25",
   "metadata": {},
   "outputs": [],
   "source": [
    "import pandas as pd\n",
    "df = pd.read_csv(\"Smartphones_cleaned_dataset.csv\")\n",
    "df[(df[\"rating\"] > 70) & (df[\"price\"] < 14000) ]\n"
   ]
  },
  {
   "cell_type": "code",
   "execution_count": null,
   "id": "25979d5f-3469-4b00-9840-f5bc193e747e",
   "metadata": {},
   "outputs": [],
   "source": [
    "import matplotlib.pyplot as plt\n",
    "import seaborn as sns\n",
    "import pandas as pd\n",
    "df = pd.read_csv(\"Smartphones_cleaned_dataset.csv\")\n",
    "df[(df[\"brand_name\"]  == \"realme\")]\n",
    "sns.countplot(x='brand_name', data=df)\n",
    "plt.title('brand_name')\n",
    "plt.show()\n",
    "\n",
    "brand_avg_salary = df.groupby('brand_name')['price'].mean()\n",
    "brand_avg_salary.plot(kind='bar', title='average price of brand')\n",
    "plt.ylabel('Salary')\n",
    "plt.grid(True)\n",
    "plt.show()\n",
    "\n",
    "sns.histplot(df['price'], bins=5, kde=True)\n",
    "plt.title('price')\n",
    "plt.show()"
   ]
  },
  {
   "cell_type": "code",
   "execution_count": null,
   "id": "136f1b3c-36c3-4a42-9190-49669ac0a956",
   "metadata": {},
   "outputs": [],
   "source": [
    "import matplotlib.pyplot as plt\n",
    "import seaborn as sns\n",
    "import pandas as pd\n",
    "df = pd.read_csv(\"Smartphones_cleaned_dataset.csv\")\n",
    "selected_brands = ['realme', 'oppo','iqoo']\n",
    "filtered_df = df[df['brand_name'].isin(selected_brands)]\n",
    "sns.countplot(x='brand_name', data=filtered_df)\n",
    "plt.title('brand_name')\n",
    "plt.show()\n",
    "\n",
    "brand_avg_salary = filtered_df.groupby('brand_name')['price'].mean()\n",
    "brand_avg_salary.plot(kind='bar', title='average price of brand')\n",
    "plt.ylabel('Salary')\n",
    "plt.grid(True)\n",
    "plt.show()\n",
    "\n",
    "sns.histplot(filtered_df['price'], bins=5, kde=True)\n",
    "plt.title('price')\n",
    "plt.show()"
   ]
  },
  {
   "cell_type": "code",
   "execution_count": null,
   "id": "d2e9bf1a-2f76-47b1-86a4-ee951d051361",
   "metadata": {},
   "outputs": [],
   "source": [
    "import matplotlib.pyplot as plt\n",
    "import seaborn as sns\n",
    "import pandas as pd\n",
    "\n",
    "\n",
    "df = pd.read_csv(\"Smartphones_cleaned_dataset.csv\")\n",
    "\n",
    "\n",
    "\n",
    "# Count occurrences of each brand in the filtered data\n",
    "brand_counts = df['brand_name'].value_counts()\n",
    "\n",
    "\n",
    "brands_to_display = [brand_counts <= 2].index\n",
    "\n",
    "\n",
    "final_df = df[df['brand_name'].isin(brands_to_display)]\n",
    "\n",
    "# Plot\n",
    "#plt.figure(figsize=(10, 5))\n",
    "#sns.countplot(x='brand_name', data=final_df)\n",
    "#plt.title('Brand Count (10 or fewer entries)')\n",
    "#plt.xlabel('Brand Name')\n",
    "#plt.ylabel('Count')\n",
    "#plt.tight_layout()\n",
    "#plt.show()\n",
    "\n"
   ]
  },
  {
   "cell_type": "code",
   "execution_count": null,
   "id": "f92b04d3-274c-48ef-a44a-8d27dd749d38",
   "metadata": {},
   "outputs": [],
   "source": [
    "import matplotlib.pyplot as plt\n",
    "import pandas as pd\n",
    "\n",
    "# Load data\n",
    "df = pd.read_csv(\"Smartphones_cleaned_dataset.csv\")\n",
    "\n",
    "# Count occurrences of each brand\n",
    "brand_counts = df['brand_name'].value_counts()\n",
    "\n",
    "# Filter brands with count ≤ 2\n",
    "brands_to_display = brand_counts[brand_counts <= 2].index\n",
    "\n",
    "# Filter original DataFrame\n",
    "final_df = df[df['brand_name'].isin(brands_to_display)]\n",
    "\n",
    "# Recount for plotting\n",
    "final_counts = final_df['brand_name'].value_counts()\n",
    "\n",
    "# Plot using matplotlib\n",
    "plt.figure(figsize=(8, 5))\n",
    "plt.bar(final_counts.index, final_counts.values, color='skyblue')\n",
    "plt.title('Brand Count (2 or fewer entries)')\n",
    "plt.xlabel('Brand Name')\n",
    "plt.ylabel('Count')\n",
    "plt.xticks(rotation=45)\n",
    "plt.tight_layout()\n",
    "plt.show()\n"
   ]
  },
  {
   "cell_type": "code",
   "execution_count": null,
   "id": "0bcd5d5e-1c0a-4092-8fa0-ca910a2d66a8",
   "metadata": {},
   "outputs": [],
   "source": [
    "import matplotlib.pyplot as plt\n",
    "import pandas as pd\n",
    "\n",
    "# Load data\n",
    "df = pd.read_csv(\"Smartphones_cleaned_dataset.csv\")\n",
    "\n",
    "# Count how many times each brand appears\n",
    "brand_counts = df['brand_name'].value_counts()\n",
    "\n",
    "# Filter for brands with count ≤ 10 (optional)\n",
    "brand_counts = brand_counts[brand_counts <= 10]\n",
    "\n",
    "# Plot a histogram of these counts\n",
    "plt.figure(figsize=(8, 5))\n",
    "plt.hist(brand_counts.values, bins=range(1, 12), edgecolor='black', color='skyblue', align='left')\n",
    "plt.title('Histogram of Brand Occurrence Frequencies (≤ 10)')\n",
    "plt.xlabel('Number of Smartphones Listed per Brand')\n",
    "plt.ylabel('Number of Brands')\n",
    "plt.xticks(range(1, 11))\n",
    "plt.tight_layout()\n",
    "plt.show()\n"
   ]
  },
  {
   "cell_type": "code",
   "execution_count": null,
   "id": "2318e1a0-acc7-4c53-adc3-ca780555d97d",
   "metadata": {},
   "outputs": [],
   "source": [
    "import matplotlib.pyplot as plt\n",
    "import pandas as pd\n",
    "\n",
    "# Load data\n",
    "df = pd.read_csv(\"Smartphones_cleaned_dataset.csv\")\n",
    "\n",
    "# Find model names that appear exactly 2 times\n",
    "model_counts = df['brand_name'].value_counts()\n",
    "models_with_2 = model_counts[model_counts == 2].index\n",
    "\n",
    "# Filter original DataFrame to include only those models\n",
    "filtered_df = df[df['brand_name'].isin(models_with_2)]\n",
    "\n",
    "# Plot histogram of their prices\n",
    "plt.figure(figsize=(8, 5))\n",
    "plt.hist(filtered_df['price'], bins=10, edgecolor='black', color='salmon')\n",
    "plt.title('Price Distribution of Models Appearing Exactly Twice')\n",
    "plt.xlabel('Price')\n",
    "plt.ylabel('Number of Smartphones')\n",
    "plt.tight_layout()\n",
    "plt.show()\n"
   ]
  },
  {
   "cell_type": "code",
   "execution_count": null,
   "id": "9f253935-62cc-4799-8eb2-9965e8ab7b34",
   "metadata": {},
   "outputs": [],
   "source": [
    "import matplotlib.pyplot as plt\n",
    "import seaborn as sns\n",
    "import pandas as pd\n",
    "\n",
    "# Load data\n",
    "df = pd.read_csv(\"Smartphones_cleaned_dataset.csv\")\n",
    "\n",
    "# Get model names that appear exactly twice\n",
    "model_counts = df['brand_name'].value_counts()\n",
    "models_with_2 = model_counts[model_counts == 2].index\n",
    "\n",
    "# Filter the DataFrame\n",
    "filtered_df = df[df['brand_name'].isin(models_with_2)]\n",
    "\n",
    "# Plot using seaborn histplot\n",
    "plt.figure(figsize=(8, 5))\n",
    "sns.histplot(filtered_df['price'], bins=5, kde=True, color='skyblue')\n",
    "plt.title('Price Distribution of Models Appearing Exactly Twice')\n",
    "plt.xlabel('Price')\n",
    "plt.ylabel('Count')\n",
    "plt.tight_layout()\n",
    "plt.show()\n"
   ]
  },
  {
   "cell_type": "code",
   "execution_count": null,
   "id": "aab2c831-e732-425d-a0c6-0bd4521d9b45",
   "metadata": {},
   "outputs": [],
   "source": [
    "from sklearn.datasets import load_iris\n",
    "import pandas as pd\n",
    "\n",
    "# Load the iris dataset\n",
    "iris = load_iris()\n",
    "X = iris.data\n",
    "y = iris.target\n",
    "\n",
    "# Create DataFrame for better visualization\n",
    "df = pd.DataFrame(X, columns=iris.feature_names)\n",
    "df['target'] = y\n",
    "df.head()\n",
    "\n"
   ]
  },
  {
   "cell_type": "code",
   "execution_count": null,
   "id": "611c4f36-ed5c-4f72-a188-dfbac20084ac",
   "metadata": {},
   "outputs": [],
   "source": [
    "from sklearn.model_selection import train_test_split\n",
    "\n",
    "# Train-test split (80% train, 20% test)\n",
    "X_train, X_test, y_train, y_test = train_test_split(X, y, test_size=0.2, random_state=42)\n",
    "\n",
    "print(\"Training set size:\", X_train.shape)\n",
    "print(\"Test set size:\", X_test.shape)\n",
    "\n"
   ]
  },
  {
   "cell_type": "code",
   "execution_count": null,
   "id": "be1ad512-a6cc-474c-86b2-66ad2c600c22",
   "metadata": {},
   "outputs": [],
   "source": [
    "from sklearn.linear_model import LogisticRegression\n",
    "\n",
    "# Create and train model\n",
    "model = LogisticRegression(max_iter=200)\n",
    "model.fit(X_train, y_train)\n",
    "\n",
    "# Make predictions\n",
    "y_pred = model.predict(X_test)\n",
    "\n",
    "# Evaluate the model\n",
    "accuracy = model.score(X_test, y_test)\n",
    "print(\"Model Accuracy:\", accuracy)\n"
   ]
  },
  {
   "cell_type": "code",
   "execution_count": null,
   "id": "5188618f-1d07-48cd-854f-c79a82fb5ca7",
   "metadata": {},
   "outputs": [],
   "source": [
    "from sklearn.metrics import accuracy_score, confusion_matrix, classification_report\n",
    "\n",
    "# Accuracy score\n",
    "print(\"Accuracy Score:\", accuracy_score(y_test, y_pred))\n",
    "\n",
    "# Confusion matrix\n",
    "print(\"Confusion Matrix:\\n\", confusion_matrix(y_test, y_pred))\n",
    "\n",
    "# Classification report\n",
    "print(\"Classification Report:\\n\", classification_report(y_test, y_pred))\n"
   ]
  },
  {
   "cell_type": "code",
   "execution_count": null,
   "id": "e703242e-47a2-4ee8-9940-de1a44d2d5bf",
   "metadata": {},
   "outputs": [],
   "source": [
    "from sklearn.tree import DecisionTreeClassifier\n",
    "\n",
    "# Train a Decision Tree model\n",
    "tree_model = DecisionTreeClassifier()\n",
    "tree_model.fit(X_train, y_train)\n",
    "tree_pred = tree_model.predict(X_test)\n",
    "\n",
    "# Evaluate\n",
    "print(\"Decision Tree Accuracy:\", accuracy_score(y_test, tree_pred))\n"
   ]
  },
  {
   "cell_type": "code",
   "execution_count": null,
   "id": "f665fc8a-a458-429c-a516-a85bca3c1711",
   "metadata": {},
   "outputs": [],
   "source": [
    "print(\"Accuracy Score:\", accuracy_score(y_test, tree_pred))\n",
    "print(\"Confusion Matrix:\\n\", confusion_matrix(y_test, tree_pred))\n",
    "print(\"Classification Report:\\n\", classification_report(y_test, tree_pred))"
   ]
  },
  {
   "cell_type": "code",
   "execution_count": null,
   "id": "6ca358ef-3282-4d6e-94cc-21009b5b7274",
   "metadata": {},
   "outputs": [],
   "source": [
    "\n",
    "from sklearn.datasets import load_iris\n",
    "import pandas as pd\n",
    "\n",
    "# Load the iris dataset\n",
    "iris = load_iris()\n",
    "X = iris.data\n",
    "y = iris.target\n",
    "\n",
    "# Create DataFrame for better visualization\n",
    "df = pd.DataFrame(X, columns=iris.feature_names)\n",
    "df['target'] = y\n",
    "df.head()"
   ]
  },
  {
   "cell_type": "code",
   "execution_count": null,
   "id": "249c83e0-b7f9-4dcd-a2fb-ce375a578ec4",
   "metadata": {},
   "outputs": [],
   "source": [
    "from sklearn.model_selection import train_test_split\n",
    "\n",
    "# Train-test split (80% train, 20% test)\n",
    "X_train, X_test, y_train, y_test = train_test_split(X, y, test_size=0.2, random_state=42)\n",
    "\n",
    "print(\"Training set size:\", X_train.shape)\n",
    "print(\"Test set size:\", X_test.shape)"
   ]
  },
  {
   "cell_type": "code",
   "execution_count": null,
   "id": "991f9ffd-4d72-407a-93f4-e2fb54f1d1a3",
   "metadata": {},
   "outputs": [],
   "source": [
    "from sklearn.tree import DecisionTreeClassifier\n",
    "\n",
    "# Train a Decision Tree model\n",
    "tree_model = DecisionTreeClassifier()\n",
    "tree_model.fit(X_train, y_train)\n",
    "tree_pred = tree_model.predict(X_test)\n",
    "\n",
    "# Evaluate\n",
    "print(\"Decision Tree Accuracy:\", accuracy_score(y_test, tree_pred))\n"
   ]
  },
  {
   "cell_type": "code",
   "execution_count": null,
   "id": "7f1dc12d-f67e-46d3-b82f-0cf2a8310e0f",
   "metadata": {},
   "outputs": [],
   "source": [
    "print(\"Accuracy Score:\", accuracy_score(y_test, tree_pred))\n",
    "print(\"Confusion Matrix:\\n\", confusion_matrix(y_test, tree_pred))\n",
    "print(\"Classification Report:\\n\", classification_report(y_test, tree_pred))"
   ]
  },
  {
   "cell_type": "code",
   "execution_count": null,
   "id": "4cfd430a-da1f-4c6a-b971-2428fae9e7ab",
   "metadata": {},
   "outputs": [],
   "source": [
    "#another example"
   ]
  },
  {
   "cell_type": "code",
   "execution_count": null,
   "id": "6c25ac86-c913-40fe-9cf9-eba5201741b1",
   "metadata": {},
   "outputs": [],
   "source": [
    "import pandas as pd\n",
    "from sklearn.model_selection import train_test_split\n",
    "from sklearn.tree import DecisionTreeClassifier\n",
    "from sklearn.metrics import accuracy_score, confusion_matrix, classification_report\n",
    "\n",
    "data = pd.read_csv(\"Smartphones_cleaned_dataset.csv\")\n",
    "\n",
    "X = data.iloc[:, :-1]  # Features (all columns except the last)\n",
    "y = data.iloc[:, -1]   # Target (last column)\n",
    "\n",
    "X_train, X_test, y_train, y_test = train_test_split(X, y, test_size=0.2, random_state=42)\n",
    "\n",
    "# Train a Decision Tree model\n",
    "tree_model = DecisionTreeClassifier()\n",
    "tree_model.fit(X_train, y_train)\n",
    "tree_pred = tree_model.predict(X_test)\n",
    "\n",
    "# Evaluate\n",
    "print(\"Decision Tree Accuracy:\", accuracy_score(y_test, tree_pred))\n",
    "print(\"Accuracy Score:\", accuracy_score(y_test, tree_pred))\n",
    "print(\"Confusion Matrix:\\n\", confusion_matrix(y_test, tree_pred))\n",
    "print(\"Classification Report:\\n\", classification_report(y_test, tree_pred))"
   ]
  },
  {
   "cell_type": "markdown",
   "id": "e7620f3d-63ea-45db-a371-9dbc75ab08f3",
   "metadata": {},
   "source": []
  }
 ],
 "metadata": {
  "kernelspec": {
   "display_name": "Python 3 (ipykernel)",
   "language": "python",
   "name": "python3"
  },
  "language_info": {
   "codemirror_mode": {
    "name": "ipython",
    "version": 3
   },
   "file_extension": ".py",
   "mimetype": "text/x-python",
   "name": "python",
   "nbconvert_exporter": "python",
   "pygments_lexer": "ipython3",
   "version": "3.12.11"
  }
 },
 "nbformat": 4,
 "nbformat_minor": 5
}
